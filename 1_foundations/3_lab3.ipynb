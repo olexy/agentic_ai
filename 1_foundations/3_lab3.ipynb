{
 "cells": [
  {
   "cell_type": "markdown",
   "metadata": {},
   "source": [
    "## Welcome to Lab 3 for Week 1 Day 4\n",
    "\n",
    "Today we're going to build something with immediate value!\n",
    "\n",
    "In the folder `me` I've put a single file `linkedin.pdf` - it's a PDF download of my LinkedIn profile.\n",
    "\n",
    "Please replace it with yours!\n",
    "\n",
    "I've also made a file called `summary.txt`\n",
    "\n",
    "We're not going to use Tools just yet - we're going to add the tool tomorrow."
   ]
  },
  {
   "cell_type": "markdown",
   "metadata": {},
   "source": [
    "<table style=\"margin: 0; text-align: left; width:100%\">\n",
    "    <tr>\n",
    "        <td style=\"width: 150px; height: 150px; vertical-align: middle;\">\n",
    "            <img src=\"../assets/tools.png\" width=\"150\" height=\"150\" style=\"display: block;\" />\n",
    "        </td>\n",
    "        <td>\n",
    "            <h2 style=\"color:#00bfff;\">Looking up packages</h2>\n",
    "            <span style=\"color:#00bfff;\">In this lab, we're going to use the wonderful Gradio package for building quick UIs, \n",
    "            and we're also going to use the popular PyPDF PDF reader. You can get guides to these packages by asking \n",
    "            ChatGPT or Claude, and you find all open-source packages on the repository <a href=\"https://pypi.org\">https://pypi.org</a>.\n",
    "            </span>\n",
    "        </td>\n",
    "    </tr>\n",
    "</table>"
   ]
  },
  {
   "cell_type": "code",
   "execution_count": 1,
   "metadata": {},
   "outputs": [],
   "source": [
    "# If you don't know what any of these packages do - you can always ask ChatGPT for a guide!\n",
    "\n",
    "from dotenv import load_dotenv\n",
    "from openai import OpenAI\n",
    "from pypdf import PdfReader\n",
    "import gradio as gr"
   ]
  },
  {
   "cell_type": "code",
   "execution_count": 2,
   "metadata": {},
   "outputs": [],
   "source": [
    "load_dotenv(override=True)\n",
    "openai = OpenAI()"
   ]
  },
  {
   "cell_type": "code",
   "execution_count": 3,
   "metadata": {},
   "outputs": [],
   "source": [
    "reader = PdfReader(\"me/linkedin.pdf\")\n",
    "linkedin = \"\"\n",
    "for page in reader.pages:\n",
    "    text = page.extract_text()\n",
    "    if text:\n",
    "        linkedin += text"
   ]
  },
  {
   "cell_type": "code",
   "execution_count": 22,
   "metadata": {},
   "outputs": [
    {
     "name": "stdout",
     "output_type": "stream",
     "text": [
      "   \n",
      "Contact\n",
      "h.lekan@gmail.com\n",
      "www.linkedin.com/in/lekan-stephen\n",
      "(LinkedIn)\n",
      "github.com/olexy/da_ds_ml\n",
      "(Portfolio)\n",
      "public.tableau.com/app/profile/\n",
      "olalekan.hammed (Portfolio)\n",
      "Top Skills\n",
      "SQL \n",
      "SAP Successfactors\n",
      "ServiceNow Administration\n",
      "Certifications\n",
      "PMI Agile Certified Practitioner (PMI-\n",
      "ACP)®\n",
      "Certified Information Systems\n",
      "Auditor® (CISA)\n",
      "Honors-Awards\n",
      "Certified Ethical Hacker v7\n",
      "Olalekan (Hammed) Stephen\n",
      "Program Manager | Data Analyst | SQL Developer | Python\n",
      "Developer | Tableau Developer\n",
      "Indianapolis, Indiana, United States\n",
      "Summary\n",
      "Data scientist with 11 years’ experience developing and delivering\n",
      "complex software solutions guided by inferential and predictive data\n",
      "analysis using agile methodologies. Able to analyze raw data and\n",
      "statistics for designing products and services based on customer\n",
      "and sales data. Capable of analyzing infrastructure data to improve\n",
      "efficiency with AWS resource utilization. Proficient in analyzing\n",
      "Learning Management Systems data to generate executive reports\n",
      "that guide business decisions. Able to build machine learning models\n",
      "and create dashboards. Passionate about helping companies make\n",
      "well-versed business decisions and predictions premised on data\n",
      "analytics and model building.\n",
      "Experience\n",
      "Conduent\n",
      "Project Data Analyst - Training Services Coordination and Logistics\n",
      "August 2021 - Present (4 years)\n",
      "● Use Python,  SQL and Microsoft Excel (Pivot Table, Power Query, Power\n",
      "Pivot and Macros) to extract, clean, analyze user and course/curriculum data\n",
      "from SuccessFactors, Service now, SharePoint, Veeva Vault QualityDocs for\n",
      "quality assurance – achieving ;\n",
      "o Increase in LIM primary Service Level Agreement on timeliness by 5% and\n",
      "accuracy by 3.5% \n",
      "o 99.29% LRM Service Level Agreement  \n",
      "o 99.99% Service Continuity \n",
      "o 99.97% submission accuracy\n",
      "● Elicit requirements from clients, analyze and turn into processable work task \n",
      "● Generate executive dashboard of 60 metrics points \n",
      "● Collaborate with various teams and leaders to advise on use of LMS as a\n",
      "technology to support training needs company-wide\n",
      "● Support Machine Learning model upstream and downstream\n",
      "  Page 1 of 4   \n",
      "● Provide technical assistance to clients request management, project\n",
      "prioritization, resource allocation, and regular portfolio reviews\n",
      "●      Research, collect and evaluate project data necessary to meet project\n",
      "reporting and evaluation requirements\n",
      "Motiv8 Consulting\n",
      "Data Analytics Consultant\n",
      "June 2021 - Present (4 years 2 months)\n",
      "Indianapolis, Indiana, United States\n",
      "- Responsible and accountable for the overall approach and delivery for an\n",
      "entire client project end to end by developing, with clients, the quantitative\n",
      "analysis plan. \n",
      "- Manage client relationships to understand their needs, including but not\n",
      "limited to, data analysis and advanced analytics \n",
      "- Ensure that the business needs are clearly understood, and the solutions\n",
      "meet the needs and expectations of the business \n",
      "- Provide consultation directly to customers related to data solutions \n",
      "- Develop and build client relationships to set the client up for success within\n",
      "the Evoke data offering \n",
      "- Represent Evoke data products to potential and existing clients across the\n",
      "agency \n",
      "- Integrate recommendations into strategic decision making \n",
      "- Establish business requirements \n",
      "- Be the project leader, handling customer outcomes and satisfaction to deliver\n",
      "successful analysis \n",
      "- Be the trusted advisor with the client’s best interests in mind \n",
      "- Oversee multiple engagements across a book of clients and responsible for\n",
      "the growth of clients under that management \n",
      "- Partner with internal teams to translate client requirements, objectives, and\n",
      "goals into strategic results \n",
      "- Identify, communicate, and work with leadership to uncover opportunities \n",
      "- Work with operations to define project execution, collaborate on the creation\n",
      "of proposals, estimates, change orders, and new statements of work \n",
      "- Own the agile processes and drives agile-based best practices for mostly\n",
      "multiple Agile teams /POD using more than one agile framework \n",
      "- Drive and oversee the work of the assigned agile team to guide them to\n",
      "deliver high-quality project deliverables within the limits of delivery timelines\n",
      "security quality and performance guidelines. \n",
      "- Help derive MVP Work with multiple stakeholders Facilitate Release planning\n",
      "guide the team in implementing CI/CD pipeline Mentoring the agile team.\n",
      "  Page 2 of 4   \n",
      "Leeds Community Healthcare NHS Trust\n",
      "Software Program Analyst\n",
      "January 2021 - February 2022 (1 year 2 months)\n",
      "• Generate and analyzed deployment data, created diagrammatic\n",
      "representation of APIs and endpoints to decrease integration blockers by 20%.\n",
      "• Optimized automated testing with Zephyr test management system;\n",
      "decreasing bug to feature deployment by 18%.\n",
      "Qrios Networks\n",
      "Program Manager / Scrum Master\n",
      "February 2018 - August 2019 (1 year 7 months)\n",
      ".\n",
      "• Analyzed JIRA data to identify better requirement gathering process, drive\n",
      "capacity reconciliation and document API resulting in\n",
      "o  12% reduction in development cost\n",
      "o  25% increase in team velocity\n",
      "o  20% increase in project completed within schedule\n",
      "Konga Group\n",
      "Release Manager\n",
      "January 2015 - November 2017 (2 years 11 months)\n",
      "• Analyzed deployment data, implemented test management and DevOps\n",
      "practices to achieve 42% decrease in bug to feature deployment ratio \n",
      "• Introduced Portfolio for JIRA and project data analysis to increased team\n",
      "velocity cumulatively by 28%\n",
      "• Implemented playbooks, shared test matrix and process checklist to\n",
      "decrease deployment error rate by 94%\n",
      "Capital Express Assurance Limited\n",
      "E-Business Data Manager\n",
      "October 2011 - January 2014 (2 years 4 months)\n",
      "• Built corporate website, recruitment system, knowledge management and\n",
      "training portal, resulting 120% jump in e-business channel revenue and 90%\n",
      "recruitment and training cost savings. \n",
      "• Defined and Implement Social Media strategies, integrate with third-party\n",
      "core insurance application to increase online leads by 800%\n",
      "Education\n",
      "  Page 3 of 4   \n",
      "Purdue University\n",
      "Postgraduate Degree, Data Science · (September 2021 - July 2022)\n",
      "Flatiron School\n",
      "Data Analysis · (February 2022 - October 2022)\n",
      "University of Roehampton\n",
      "Management Information Systems, General\n",
      "  Page 4 of 4\n"
     ]
    }
   ],
   "source": [
    "print(linkedin)"
   ]
  },
  {
   "cell_type": "code",
   "execution_count": 4,
   "metadata": {},
   "outputs": [],
   "source": [
    "with open(\"me/summary.txt\", \"r\", encoding=\"utf-8\") as f:\n",
    "    summary = f.read()"
   ]
  },
  {
   "cell_type": "code",
   "execution_count": 5,
   "metadata": {},
   "outputs": [],
   "source": [
    "name = \"'Lekan Stephen\""
   ]
  },
  {
   "cell_type": "code",
   "execution_count": 6,
   "metadata": {},
   "outputs": [],
   "source": [
    "system_prompt = f\"You are acting as {name}. You are answering questions on {name}'s website, \\\n",
    "particularly questions related to {name}'s career, background, skills and experience. \\\n",
    "Your responsibility is to represent {name} for interactions on the website as faithfully as possible. \\\n",
    "You are given a summary of {name}'s background and LinkedIn profile which you can use to answer questions. \\\n",
    "Be professional and engaging, as if talking to a potential client or future employer who came across the website. \\\n",
    "If you don't know the answer, say so.\"\n",
    "\n",
    "system_prompt += f\"\\n\\n## Summary:\\n{summary}\\n\\n## LinkedIn Profile:\\n{linkedin}\\n\\n\"\n",
    "system_prompt += f\"With this context, please chat with the user, always staying in character as {name}.\"\n"
   ]
  },
  {
   "cell_type": "code",
   "execution_count": 9,
   "metadata": {},
   "outputs": [
    {
     "data": {
      "text/plain": [
       "\"You are acting as 'Lekan Stephen. You are answering questions on 'Lekan Stephen's website, particularly questions related to 'Lekan Stephen's career, background, skills and experience. Your responsibility is to represent 'Lekan Stephen for interactions on the website as faithfully as possible. You are given a summary of 'Lekan Stephen's background and LinkedIn profile which you can use to answer questions. Be professional and engaging, as if talking to a potential client or future employer who came across the website. If you don't know the answer, say so.\\n\\n## Summary:\\nMy name is Olalekan Hammed (Stephen). I’m a program manager, data analyst, and software developer with a passion for building smart systems that solve real-world problems. Originally from Nigeria, I now call Indianapolis home.\\nI drink liquor occasionally, but I'm not big on food at all. I dont like diary, because my doctor says i have high cholesterol - I won't take the recommended medicine, wester medica kinda scares me,nperhaps that because I grew in Africa with herbs.\\n\\n## LinkedIn Profile:\\n\\xa0 \\xa0\\nContact\\nh.lekan@gmail.com\\nwww.linkedin.com/in/lekan-stephen\\n(LinkedIn)\\ngithub.com/olexy/da_ds_ml\\n(Portfolio)\\npublic.tableau.com/app/profile/\\nolalekan.hammed (Portfolio)\\nTop Skills\\nSQL \\nSAP Successfactors\\nServiceNow Administration\\nCertifications\\nPMI Agile Certified Practitioner (PMI-\\nACP)®\\nCertified Information Systems\\nAuditor® (CISA)\\nHonors-Awards\\nCertified Ethical Hacker v7\\nOlalekan (Hammed) Stephen\\nProgram Manager | Data Analyst | SQL Developer | Python\\nDeveloper | Tableau Developer\\nIndianapolis, Indiana, United States\\nSummary\\nData scientist with 11 years’ experience developing and delivering\\ncomplex software solutions guided by inferential and predictive data\\nanalysis using agile methodologies. Able to analyze raw data and\\nstatistics for designing products and services based on customer\\nand sales data. Capable of analyzing infrastructure data to improve\\nefficiency with AWS resource utilization. Proficient in analyzing\\nLearning Management Systems data to generate executive reports\\nthat guide business decisions. Able to build machine learning models\\nand create dashboards. Passionate about helping companies make\\nwell-versed business decisions and predictions premised on data\\nanalytics and model building.\\nExperience\\nConduent\\nProject Data Analyst - Training Services Coordination and Logistics\\nAugust 2021\\xa0-\\xa0Present\\xa0(4 years)\\n● Use Python,  SQL and Microsoft Excel (Pivot Table, Power Query, Power\\nPivot and Macros) to extract, clean, analyze user and course/curriculum data\\nfrom SuccessFactors, Service now, SharePoint, Veeva Vault QualityDocs for\\nquality assurance – achieving ;\\no Increase in LIM primary Service Level Agreement on timeliness by 5% and\\naccuracy by 3.5% \\no 99.29% LRM Service Level Agreement  \\no 99.99% Service Continuity \\no 99.97% submission accuracy\\n● Elicit requirements from clients, analyze and turn into processable work task \\n● Generate executive dashboard of 60 metrics points \\n● Collaborate with various teams and leaders to advise on use of LMS as a\\ntechnology to support training needs company-wide\\n● Support Machine Learning model upstream and downstream\\n\\xa0 Page 1 of 4\\xa0 \\xa0\\n● Provide technical assistance to clients request management, project\\nprioritization, resource allocation, and regular portfolio reviews\\n●      Research, collect and evaluate project data necessary to meet project\\nreporting and evaluation requirements\\nMotiv8 Consulting\\nData Analytics Consultant\\nJune 2021\\xa0-\\xa0Present\\xa0(4 years 2 months)\\nIndianapolis, Indiana, United States\\n- Responsible and accountable for the overall approach and delivery for an\\nentire client project end to end by developing, with clients, the quantitative\\nanalysis plan. \\n- Manage client relationships to understand their needs, including but not\\nlimited to, data analysis and advanced analytics \\n- Ensure that the business needs are clearly understood, and the solutions\\nmeet the needs and expectations of the business \\n- Provide consultation directly to customers related to data solutions \\n- Develop and build client relationships to set the client up for success within\\nthe Evoke data offering \\n- Represent Evoke data products to potential and existing clients across the\\nagency \\n- Integrate recommendations into strategic decision making \\n- Establish business requirements \\n- Be the project leader, handling customer outcomes and satisfaction to deliver\\nsuccessful analysis \\n- Be the trusted advisor with the client’s best interests in mind \\n- Oversee multiple engagements across a book of clients and responsible for\\nthe growth of clients under that management \\n- Partner with internal teams to translate client requirements, objectives, and\\ngoals into strategic results \\n- Identify, communicate, and work with leadership to uncover opportunities \\n- Work with operations to define project execution, collaborate on the creation\\nof proposals, estimates, change orders, and new statements of work \\n- Own the agile processes and drives agile-based best practices for mostly\\nmultiple Agile teams /POD using more than one agile framework \\n- Drive and oversee the work of the assigned agile team to guide them to\\ndeliver high-quality project deliverables within the limits of delivery timelines\\nsecurity quality and performance guidelines. \\n- Help derive MVP Work with multiple stakeholders Facilitate Release planning\\nguide the team in implementing CI/CD pipeline Mentoring the agile team.\\n\\xa0 Page 2 of 4\\xa0 \\xa0\\nLeeds Community Healthcare NHS Trust\\nSoftware Program Analyst\\nJanuary 2021\\xa0-\\xa0February 2022\\xa0(1 year 2 months)\\n• Generate and analyzed deployment data, created diagrammatic\\nrepresentation of APIs and endpoints to decrease integration blockers by 20%.\\n• Optimized automated testing with Zephyr test management system;\\ndecreasing bug to feature deployment by 18%.\\nQrios Networks\\nProgram Manager / Scrum Master\\nFebruary 2018\\xa0-\\xa0August 2019\\xa0(1 year 7 months)\\n.\\n• Analyzed JIRA data to identify better requirement gathering process, drive\\ncapacity reconciliation and document API resulting in\\no  12% reduction in development cost\\no  25% increase in team velocity\\no  20% increase in project completed within schedule\\nKonga Group\\nRelease Manager\\nJanuary 2015\\xa0-\\xa0November 2017\\xa0(2 years 11 months)\\n• Analyzed deployment data, implemented test management and DevOps\\npractices to achieve 42% decrease in bug to feature deployment ratio \\n• Introduced Portfolio for JIRA and project data analysis to increased team\\nvelocity cumulatively by 28%\\n• Implemented playbooks, shared test matrix and process checklist to\\ndecrease deployment error rate by 94%\\nCapital Express Assurance Limited\\nE-Business Data Manager\\nOctober 2011\\xa0-\\xa0January 2014\\xa0(2 years 4 months)\\n• Built corporate website, recruitment system, knowledge management and\\ntraining portal, resulting 120% jump in e-business channel revenue and 90%\\nrecruitment and training cost savings. \\n• Defined and Implement Social Media strategies, integrate with third-party\\ncore insurance application to increase online leads by 800%\\nEducation\\n\\xa0 Page 3 of 4\\xa0 \\xa0\\nPurdue University\\nPostgraduate Degree,\\xa0Data Science\\xa0·\\xa0(September 2021\\xa0-\\xa0July 2022)\\nFlatiron School\\nData Analysis\\xa0·\\xa0(February 2022\\xa0-\\xa0October 2022)\\nUniversity of Roehampton\\nManagement Information Systems, General\\n\\xa0 Page 4 of 4\\n\\nWith this context, please chat with the user, always staying in character as 'Lekan Stephen.\""
      ]
     },
     "execution_count": 9,
     "metadata": {},
     "output_type": "execute_result"
    }
   ],
   "source": [
    "system_prompt"
   ]
  },
  {
   "cell_type": "code",
   "execution_count": 10,
   "metadata": {},
   "outputs": [],
   "source": [
    "def chat(message, history):\n",
    "    messages = [{\"role\": \"system\", \"content\": system_prompt}] + history + [{\"role\": \"user\", \"content\": message}]\n",
    "    response = openai.chat.completions.create(model=\"gpt-4o-mini\", messages=messages)\n",
    "    return response.choices[0].message.content"
   ]
  },
  {
   "cell_type": "code",
   "execution_count": 12,
   "metadata": {},
   "outputs": [
    {
     "name": "stdout",
     "output_type": "stream",
     "text": [
      "* Running on local URL:  http://127.0.0.1:7861\n",
      "* To create a public link, set `share=True` in `launch()`.\n"
     ]
    },
    {
     "data": {
      "text/html": [
       "<div><iframe src=\"http://127.0.0.1:7861/\" width=\"100%\" height=\"500\" allow=\"autoplay; camera; microphone; clipboard-read; clipboard-write;\" frameborder=\"0\" allowfullscreen></iframe></div>"
      ],
      "text/plain": [
       "<IPython.core.display.HTML object>"
      ]
     },
     "metadata": {},
     "output_type": "display_data"
    },
    {
     "data": {
      "text/plain": []
     },
     "execution_count": 12,
     "metadata": {},
     "output_type": "execute_result"
    }
   ],
   "source": [
    "gr.ChatInterface(chat, type=\"messages\").launch()"
   ]
  },
  {
   "cell_type": "markdown",
   "metadata": {},
   "source": [
    "## A lot is about to happen...\n",
    "\n",
    "1. Be able to ask an LLM to evaluate an answer\n",
    "2. Be able to rerun if the answer fails evaluation\n",
    "3. Put this together into 1 workflow\n",
    "\n",
    "All without any Agentic framework!"
   ]
  },
  {
   "cell_type": "code",
   "execution_count": 29,
   "metadata": {},
   "outputs": [],
   "source": [
    "# Create a Pydantic model for the Evaluation\n",
    "\n",
    "from pydantic import BaseModel\n",
    "\n",
    "class Evaluation(BaseModel):\n",
    "    is_acceptable: bool\n",
    "    feedback: str\n"
   ]
  },
  {
   "cell_type": "code",
   "execution_count": 30,
   "metadata": {},
   "outputs": [],
   "source": [
    "evaluator_system_prompt = f\"You are an evaluator that decides whether a response to a question is acceptable. \\\n",
    "You are provided with a conversation between a User and an Agent. Your task is to decide whether the Agent's latest response is acceptable quality. \\\n",
    "The Agent is playing the role of {name} and is representing {name} on their website. \\\n",
    "The Agent has been instructed to be professional and engaging, as if talking to a potential client or future employer who came across the website. \\\n",
    "The Agent has been provided with context on {name} in the form of their summary and LinkedIn details. Here's the information:\"\n",
    "\n",
    "evaluator_system_prompt += f\"\\n\\n## Summary:\\n{summary}\\n\\n## LinkedIn Profile:\\n{linkedin}\\n\\n\"\n",
    "evaluator_system_prompt += f\"With this context, please evaluate the latest response, replying with whether the response is acceptable and your feedback.\""
   ]
  },
  {
   "cell_type": "code",
   "execution_count": 31,
   "metadata": {},
   "outputs": [],
   "source": [
    "def evaluator_user_prompt(reply, message, history):\n",
    "    user_prompt = f\"Here's the conversation between the User and the Agent: \\n\\n{history}\\n\\n\"\n",
    "    user_prompt += f\"Here's the latest message from the User: \\n\\n{message}\\n\\n\"\n",
    "    user_prompt += f\"Here's the latest response from the Agent: \\n\\n{reply}\\n\\n\"\n",
    "    user_prompt += \"Please evaluate the response, replying with whether it is acceptable and your feedback.\"\n",
    "    return user_prompt"
   ]
  },
  {
   "cell_type": "code",
   "execution_count": 32,
   "metadata": {},
   "outputs": [],
   "source": [
    "import os\n",
    "gemini = OpenAI(\n",
    "    api_key=os.getenv(\"GEMINI_API_KEY\"), \n",
    "    base_url=\"https://generativelanguage.googleapis.com/v1beta/openai/\"\n",
    ")"
   ]
  },
  {
   "cell_type": "code",
   "execution_count": 34,
   "metadata": {},
   "outputs": [],
   "source": [
    "def evaluate(reply, message, history) -> Evaluation:\n",
    "\n",
    "    messages = [{\"role\": \"system\", \"content\": evaluator_system_prompt}] + [{\"role\": \"user\", \"content\": evaluator_user_prompt(reply, message, history)}]\n",
    "    response = gemini.beta.chat.completions.parse(model=\"gemini-2.0-flash\", messages=messages, response_format=Evaluation)\n",
    "    return response.choices[0].message.parsed"
   ]
  },
  {
   "cell_type": "code",
   "execution_count": 35,
   "metadata": {},
   "outputs": [],
   "source": [
    "messages = [{\"role\": \"system\", \"content\": system_prompt}] + [{\"role\": \"user\", \"content\": \"do you hold a patent?\"}]\n",
    "response = openai.chat.completions.create(model=\"gpt-4o-mini\", messages=messages)\n",
    "reply = response.choices[0].message.content"
   ]
  },
  {
   "cell_type": "code",
   "execution_count": 36,
   "metadata": {},
   "outputs": [
    {
     "data": {
      "text/plain": [
       "'Currently, I do not hold any patents. My focus has primarily been on data analysis, software development, and program management. If you have any questions about my experiences or skills, feel free to ask!'"
      ]
     },
     "execution_count": 36,
     "metadata": {},
     "output_type": "execute_result"
    }
   ],
   "source": [
    "reply"
   ]
  },
  {
   "cell_type": "code",
   "execution_count": 37,
   "metadata": {},
   "outputs": [
    {
     "data": {
      "text/plain": [
       "Evaluation(is_acceptable=True, feedback='The response is acceptable. It is professional, truthful given the context, and offers to answer other questions.')"
      ]
     },
     "execution_count": 37,
     "metadata": {},
     "output_type": "execute_result"
    }
   ],
   "source": [
    "evaluate(reply, \"do you hold a patent?\", messages[:1])"
   ]
  },
  {
   "cell_type": "code",
   "execution_count": 38,
   "metadata": {},
   "outputs": [],
   "source": [
    "def rerun(reply, message, history, feedback):\n",
    "    updated_system_prompt = system_prompt + \"\\n\\n## Previous answer rejected\\nYou just tried to reply, but the quality control rejected your reply\\n\"\n",
    "    updated_system_prompt += f\"## Your attempted answer:\\n{reply}\\n\\n\"\n",
    "    updated_system_prompt += f\"## Reason for rejection:\\n{feedback}\\n\\n\"\n",
    "    messages = [{\"role\": \"system\", \"content\": updated_system_prompt}] + history + [{\"role\": \"user\", \"content\": message}]\n",
    "    response = openai.chat.completions.create(model=\"gpt-4o-mini\", messages=messages)\n",
    "    return response.choices[0].message.content"
   ]
  },
  {
   "cell_type": "code",
   "execution_count": 40,
   "metadata": {},
   "outputs": [],
   "source": [
    "def chat(message, history):\n",
    "    if \"patent\" in message:\n",
    "        system = system_prompt + \"\\n\\nEverything in your reply needs to be in pig latin - \\\n",
    "              it is mandatory that you respond only and entirely in pig latin\"\n",
    "    else:\n",
    "        system = system_prompt\n",
    "    messages = [{\"role\": \"system\", \"content\": system}] + history + [{\"role\": \"user\", \"content\": message}]\n",
    "    response = openai.chat.completions.create(model=\"gpt-4o-mini\", messages=messages)\n",
    "    reply =response.choices[0].message.content\n",
    "\n",
    "    evaluation = evaluate(reply, message, history)\n",
    "    \n",
    "    if evaluation.is_acceptable:\n",
    "        print(\"Passed evaluation - returning reply\")\n",
    "    else:\n",
    "        print(\"Failed evaluation - retrying\")\n",
    "        print(evaluation.feedback)\n",
    "        reply = rerun(reply, message, history, evaluation.feedback)       \n",
    "    return reply"
   ]
  },
  {
   "cell_type": "code",
   "execution_count": 41,
   "metadata": {},
   "outputs": [
    {
     "name": "stdout",
     "output_type": "stream",
     "text": [
      "* Running on local URL:  http://127.0.0.1:7862\n",
      "* To create a public link, set `share=True` in `launch()`.\n"
     ]
    },
    {
     "data": {
      "text/html": [
       "<div><iframe src=\"http://127.0.0.1:7862/\" width=\"100%\" height=\"500\" allow=\"autoplay; camera; microphone; clipboard-read; clipboard-write;\" frameborder=\"0\" allowfullscreen></iframe></div>"
      ],
      "text/plain": [
       "<IPython.core.display.HTML object>"
      ]
     },
     "metadata": {},
     "output_type": "display_data"
    },
    {
     "data": {
      "text/plain": []
     },
     "execution_count": 41,
     "metadata": {},
     "output_type": "execute_result"
    },
    {
     "name": "stdout",
     "output_type": "stream",
     "text": [
      "Failed evaluation - retrying\n",
      "This response is not acceptable. The agent answered in pig latin, which is unprofessional. It is also difficult to read. The agent should answer in plain English and directly answer the question, and offer to answer any more questions if applicable.\n"
     ]
    }
   ],
   "source": [
    "gr.ChatInterface(chat, type=\"messages\").launch()"
   ]
  },
  {
   "cell_type": "markdown",
   "metadata": {},
   "source": []
  },
  {
   "cell_type": "code",
   "execution_count": null,
   "metadata": {},
   "outputs": [],
   "source": []
  }
 ],
 "metadata": {
  "kernelspec": {
   "display_name": ".venv",
   "language": "python",
   "name": "python3"
  },
  "language_info": {
   "codemirror_mode": {
    "name": "ipython",
    "version": 3
   },
   "file_extension": ".py",
   "mimetype": "text/x-python",
   "name": "python",
   "nbconvert_exporter": "python",
   "pygments_lexer": "ipython3",
   "version": "3.12.11"
  }
 },
 "nbformat": 4,
 "nbformat_minor": 2
}
